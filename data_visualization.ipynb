{
 "cells": [
  {
   "cell_type": "markdown",
   "metadata": {},
   "source": [
    "<h1>Stock Prediction</h1>\n",
    "<p>Stock prediction is the prediction of stock values in future. With the help of machine learning, we can train a predictor to predict future values of stock. RNN are generally used to capture temporal patterns. LSTM is a type of recurrent network that makes use of memory blocks to capture long term dependencies.</p>"
   ]
  },
  {
   "cell_type": "markdown",
   "metadata": {},
   "source": [
    "<h3>Data Exploration</h3>\n",
    "<p>The dataset used for this project is the historical daily stock data of Machhapuchre Bank Limited(MBL) listed in Nepal Stock Exchange (NEPSE), obtained through NepseAlpha's data api in csv format.</p>\n",
    "Source: <a href=\"https://nepsealpha.com/nepse-data\">NepseAlpha</a>"
   ]
  },
  {
   "cell_type": "code",
   "execution_count": 1,
   "id": "01J626SRV1N8G2C7RKM780FZ4F",
   "metadata": {},
   "outputs": [],
   "source": [
    "import pandas as pd\n",
    "import numpy as np\n",
    "import matplotlib.pyplot as plt"
   ]
  },
  {
   "cell_type": "code",
   "execution_count": 2,
   "id": "01J626K45FK37CH4CJVFF4334K",
   "metadata": {},
   "outputs": [
    {
     "data": {
      "text/html": [
       "<div>\n",
       "<style scoped>\n",
       "    .dataframe tbody tr th:only-of-type {\n",
       "        vertical-align: middle;\n",
       "    }\n",
       "\n",
       "    .dataframe tbody tr th {\n",
       "        vertical-align: top;\n",
       "    }\n",
       "\n",
       "    .dataframe thead th {\n",
       "        text-align: right;\n",
       "    }\n",
       "</style>\n",
       "<table border=\"1\" class=\"dataframe\">\n",
       "  <thead>\n",
       "    <tr style=\"text-align: right;\">\n",
       "      <th></th>\n",
       "      <th>Symbol</th>\n",
       "      <th>Open</th>\n",
       "      <th>High</th>\n",
       "      <th>Low</th>\n",
       "      <th>Close</th>\n",
       "      <th>Percent Change</th>\n",
       "      <th>Volume</th>\n",
       "    </tr>\n",
       "    <tr>\n",
       "      <th>Date</th>\n",
       "      <th></th>\n",
       "      <th></th>\n",
       "      <th></th>\n",
       "      <th></th>\n",
       "      <th></th>\n",
       "      <th></th>\n",
       "      <th></th>\n",
       "    </tr>\n",
       "  </thead>\n",
       "  <tbody>\n",
       "    <tr>\n",
       "      <th>2024-08-22</th>\n",
       "      <td>MBL</td>\n",
       "      <td>280.0</td>\n",
       "      <td>289.0</td>\n",
       "      <td>277.1</td>\n",
       "      <td>286.2</td>\n",
       "      <td>2.25 %</td>\n",
       "      <td>284,184.00</td>\n",
       "    </tr>\n",
       "    <tr>\n",
       "      <th>2024-08-21</th>\n",
       "      <td>MBL</td>\n",
       "      <td>281.0</td>\n",
       "      <td>286.0</td>\n",
       "      <td>272.0</td>\n",
       "      <td>279.9</td>\n",
       "      <td>-0.39 %</td>\n",
       "      <td>345,405.00</td>\n",
       "    </tr>\n",
       "    <tr>\n",
       "      <th>2024-08-18</th>\n",
       "      <td>MBL</td>\n",
       "      <td>280.0</td>\n",
       "      <td>295.0</td>\n",
       "      <td>273.0</td>\n",
       "      <td>281.0</td>\n",
       "      <td>1.08 %</td>\n",
       "      <td>666,974.00</td>\n",
       "    </tr>\n",
       "    <tr>\n",
       "      <th>2024-08-15</th>\n",
       "      <td>MBL</td>\n",
       "      <td>262.1</td>\n",
       "      <td>282.7</td>\n",
       "      <td>258.1</td>\n",
       "      <td>278.0</td>\n",
       "      <td>8.17 %</td>\n",
       "      <td>754,130.00</td>\n",
       "    </tr>\n",
       "    <tr>\n",
       "      <th>2024-08-14</th>\n",
       "      <td>MBL</td>\n",
       "      <td>258.0</td>\n",
       "      <td>258.5</td>\n",
       "      <td>248.4</td>\n",
       "      <td>257.0</td>\n",
       "      <td>1.58 %</td>\n",
       "      <td>167,329.00</td>\n",
       "    </tr>\n",
       "  </tbody>\n",
       "</table>\n",
       "</div>"
      ],
      "text/plain": [
       "           Symbol   Open   High    Low  Close Percent Change      Volume\n",
       "Date                                                                    \n",
       "2024-08-22    MBL  280.0  289.0  277.1  286.2         2.25 %  284,184.00\n",
       "2024-08-21    MBL  281.0  286.0  272.0  279.9        -0.39 %  345,405.00\n",
       "2024-08-18    MBL  280.0  295.0  273.0  281.0         1.08 %  666,974.00\n",
       "2024-08-15    MBL  262.1  282.7  258.1  278.0         8.17 %  754,130.00\n",
       "2024-08-14    MBL  258.0  258.5  248.4  257.0         1.58 %  167,329.00"
      ]
     },
     "execution_count": 2,
     "metadata": {},
     "output_type": "execute_result"
    }
   ],
   "source": [
    "df=pd.read_csv(\"assets/mbl_data.csv\",index_col=1,parse_dates=['Date'])\n",
    "df.head()"
   ]
  },
  {
   "cell_type": "markdown",
   "metadata": {},
   "source": [
    "We can see it is a multi-dimensional time series data."
   ]
  },
  {
   "cell_type": "code",
   "execution_count": 3,
   "id": "01J626PESW2TYBN7FYC9JQRFP9",
   "metadata": {},
   "outputs": [
    {
     "name": "stdout",
     "output_type": "stream",
     "text": [
      "<class 'pandas.core.frame.DataFrame'>\n",
      "DatetimeIndex: 1127 entries, 2024-08-22 to 2019-08-25\n",
      "Data columns (total 7 columns):\n",
      " #   Column          Non-Null Count  Dtype  \n",
      "---  ------          --------------  -----  \n",
      " 0   Symbol          1127 non-null   object \n",
      " 1   Open            1127 non-null   float64\n",
      " 2   High            1127 non-null   float64\n",
      " 3   Low             1127 non-null   float64\n",
      " 4   Close           1127 non-null   float64\n",
      " 5   Percent Change  1127 non-null   object \n",
      " 6   Volume          1127 non-null   object \n",
      "dtypes: float64(4), object(3)\n",
      "memory usage: 70.4+ KB\n"
     ]
    }
   ],
   "source": [
    "df.info()"
   ]
  },
  {
   "cell_type": "markdown",
   "metadata": {},
   "source": [
    "<p>The dataset consists of 6 features with timestamp as the index of the dataframe. We can see no null values here.</p>\n",
    "<p>We can see the features <i>Percent Change</i> and <i>Volume</i> are non numeric datatype here.</p> "
   ]
  },
  {
   "cell_type": "code",
   "execution_count": 4,
   "id": "01J66KK8CVTAP5MDH6QG6KTFA2",
   "metadata": {},
   "outputs": [
    {
     "data": {
      "text/html": [
       "<div>\n",
       "<style scoped>\n",
       "    .dataframe tbody tr th:only-of-type {\n",
       "        vertical-align: middle;\n",
       "    }\n",
       "\n",
       "    .dataframe tbody tr th {\n",
       "        vertical-align: top;\n",
       "    }\n",
       "\n",
       "    .dataframe thead th {\n",
       "        text-align: right;\n",
       "    }\n",
       "</style>\n",
       "<table border=\"1\" class=\"dataframe\">\n",
       "  <thead>\n",
       "    <tr style=\"text-align: right;\">\n",
       "      <th></th>\n",
       "      <th>Open</th>\n",
       "      <th>High</th>\n",
       "      <th>Low</th>\n",
       "      <th>Close</th>\n",
       "    </tr>\n",
       "  </thead>\n",
       "  <tbody>\n",
       "    <tr>\n",
       "      <th>count</th>\n",
       "      <td>1127.000000</td>\n",
       "      <td>1127.000000</td>\n",
       "      <td>1127.000000</td>\n",
       "      <td>1127.000000</td>\n",
       "    </tr>\n",
       "    <tr>\n",
       "      <th>mean</th>\n",
       "      <td>256.254658</td>\n",
       "      <td>259.866016</td>\n",
       "      <td>251.690594</td>\n",
       "      <td>255.397693</td>\n",
       "    </tr>\n",
       "    <tr>\n",
       "      <th>std</th>\n",
       "      <td>59.543404</td>\n",
       "      <td>60.683501</td>\n",
       "      <td>57.915569</td>\n",
       "      <td>59.036109</td>\n",
       "    </tr>\n",
       "    <tr>\n",
       "      <th>min</th>\n",
       "      <td>158.000000</td>\n",
       "      <td>161.900000</td>\n",
       "      <td>157.800000</td>\n",
       "      <td>159.500000</td>\n",
       "    </tr>\n",
       "    <tr>\n",
       "      <th>25%</th>\n",
       "      <td>220.450000</td>\n",
       "      <td>224.000000</td>\n",
       "      <td>218.300000</td>\n",
       "      <td>221.000000</td>\n",
       "    </tr>\n",
       "    <tr>\n",
       "      <th>50%</th>\n",
       "      <td>238.000000</td>\n",
       "      <td>241.000000</td>\n",
       "      <td>233.000000</td>\n",
       "      <td>236.000000</td>\n",
       "    </tr>\n",
       "    <tr>\n",
       "      <th>75%</th>\n",
       "      <td>286.600000</td>\n",
       "      <td>291.000000</td>\n",
       "      <td>281.500000</td>\n",
       "      <td>286.600000</td>\n",
       "    </tr>\n",
       "    <tr>\n",
       "      <th>max</th>\n",
       "      <td>450.000000</td>\n",
       "      <td>455.000000</td>\n",
       "      <td>429.000000</td>\n",
       "      <td>442.900000</td>\n",
       "    </tr>\n",
       "  </tbody>\n",
       "</table>\n",
       "</div>"
      ],
      "text/plain": [
       "              Open         High          Low        Close\n",
       "count  1127.000000  1127.000000  1127.000000  1127.000000\n",
       "mean    256.254658   259.866016   251.690594   255.397693\n",
       "std      59.543404    60.683501    57.915569    59.036109\n",
       "min     158.000000   161.900000   157.800000   159.500000\n",
       "25%     220.450000   224.000000   218.300000   221.000000\n",
       "50%     238.000000   241.000000   233.000000   236.000000\n",
       "75%     286.600000   291.000000   281.500000   286.600000\n",
       "max     450.000000   455.000000   429.000000   442.900000"
      ]
     },
     "execution_count": 4,
     "metadata": {},
     "output_type": "execute_result"
    }
   ],
   "source": [
    "df.describe()"
   ]
  },
  {
   "cell_type": "markdown",
   "metadata": {},
   "source": [
    "The above table shows the statistical data for each numeric column."
   ]
  },
  {
   "cell_type": "code",
   "execution_count": 5,
   "id": "01J66HSH3WJPJ3X5KD0HXNHKWP",
   "metadata": {},
   "outputs": [
    {
     "data": {
      "text/plain": [
       "[<matplotlib.lines.Line2D at 0x7093214b6b10>]"
      ]
     },
     "execution_count": 5,
     "metadata": {},
     "output_type": "execute_result"
    },
    {
     "data": {
      "image/png": "[encoded data removed]",
      "text/plain": [
       "<Figure size 640x480 with 1 Axes>"
      ]
     },
     "metadata": {},
     "output_type": "display_data"
    }
   ],
   "source": [
    "plt.plot(df['Close'])"
   ]
  },
  {
   "cell_type": "markdown",
   "metadata": {},
   "source": [
    "The above graph shows time varying historical data of feature <i>Close</i>."
   ]
  },
  {
   "cell_type": "code",
   "execution_count": 6,
   "id": "01J66J5K9AAKFEE08177ZB4CT4",
   "metadata": {},
   "outputs": [
    {
     "name": "stdout",
     "output_type": "stream",
     "text": [
      "Date ranges from 2019-08-25 00:00:00 to 2024-08-22 00:00:00\n"
     ]
    }
   ],
   "source": [
    "print(\"Date ranges from {start_date} to {end_date}\".format(start_date=df.index[-1], end_date=df.index[0]))"
   ]
  },
  {
   "cell_type": "markdown",
   "metadata": {},
   "source": [
    "The dataset contains data of about 5 years."
   ]
  }
 ],
 "metadata": {
  "kernelspec": {
   "display_name": "venv",
   "language": "python",
   "name": "python3"
  },
  "language_info": {
   "codemirror_mode": {
    "name": "ipython",
    "version": 3
   },
   "file_extension": ".py",
   "mimetype": "text/x-python",
   "name": "python",
   "nbconvert_exporter": "python",
   "pygments_lexer": "ipython3",
   "version": "3.12.3"
  }
 },
 "nbformat": 4,
 "nbformat_minor": 2
}
