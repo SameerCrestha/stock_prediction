{
 "cells": [
  {
   "cell_type": "markdown",
   "metadata": {},
   "source": [
    "<h1>Data Preparation</h1>\n",
    "<p>In this section, data for training and testing the model is prepared. The section can be divided as follow:</p>\n",
    "<ol>\n",
    "<li>Data loading</li>\n",
    "<li>Conversion of non-numeric column to numeric</li>\n",
    "<li>Inversion of dataset order</li>\n",
    "<li>Creating indicators</li>\n",
    "<li>Cleaning dataset</li>\n",
    "<li>Data scaling</li>\n",
    "<li>Rolling window</li>\n",
    "<li>Save dataset</li>\n",
    "\n",
    "</ol>"
   ]
  },
  {
   "cell_type": "markdown",
   "metadata": {},
   "source": [
    "<h3>1. Data loading</h3>"
   ]
  },
  {
   "cell_type": "code",
   "execution_count": 24,
   "metadata": {},
   "outputs": [],
   "source": [
    "import pandas as pd\n",
    "import numpy as np"
   ]
  },
  {
   "cell_type": "code",
   "execution_count": 25,
   "id": "01J66KEAQDYP263PERGXZ6Q6NN",
   "metadata": {},
   "outputs": [
    {
     "data": {
      "text/html": [
       "<div>\n",
       "<style scoped>\n",
       "    .dataframe tbody tr th:only-of-type {\n",
       "        vertical-align: middle;\n",
       "    }\n",
       "\n",
       "    .dataframe tbody tr th {\n",
       "        vertical-align: top;\n",
       "    }\n",
       "\n",
       "    .dataframe thead th {\n",
       "        text-align: right;\n",
       "    }\n",
       "</style>\n",
       "<table border=\"1\" class=\"dataframe\">\n",
       "  <thead>\n",
       "    <tr style=\"text-align: right;\">\n",
       "      <th></th>\n",
       "      <th>Symbol</th>\n",
       "      <th>Open</th>\n",
       "      <th>High</th>\n",
       "      <th>Low</th>\n",
       "      <th>Close</th>\n",
       "      <th>Percent Change</th>\n",
       "      <th>Volume</th>\n",
       "    </tr>\n",
       "    <tr>\n",
       "      <th>Date</th>\n",
       "      <th></th>\n",
       "      <th></th>\n",
       "      <th></th>\n",
       "      <th></th>\n",
       "      <th></th>\n",
       "      <th></th>\n",
       "      <th></th>\n",
       "    </tr>\n",
       "  </thead>\n",
       "  <tbody>\n",
       "    <tr>\n",
       "      <th>2024-08-22</th>\n",
       "      <td>MBL</td>\n",
       "      <td>280.0</td>\n",
       "      <td>289.0</td>\n",
       "      <td>277.1</td>\n",
       "      <td>286.2</td>\n",
       "      <td>2.25 %</td>\n",
       "      <td>284,184.00</td>\n",
       "    </tr>\n",
       "    <tr>\n",
       "      <th>2024-08-21</th>\n",
       "      <td>MBL</td>\n",
       "      <td>281.0</td>\n",
       "      <td>286.0</td>\n",
       "      <td>272.0</td>\n",
       "      <td>279.9</td>\n",
       "      <td>-0.39 %</td>\n",
       "      <td>345,405.00</td>\n",
       "    </tr>\n",
       "    <tr>\n",
       "      <th>2024-08-18</th>\n",
       "      <td>MBL</td>\n",
       "      <td>280.0</td>\n",
       "      <td>295.0</td>\n",
       "      <td>273.0</td>\n",
       "      <td>281.0</td>\n",
       "      <td>1.08 %</td>\n",
       "      <td>666,974.00</td>\n",
       "    </tr>\n",
       "    <tr>\n",
       "      <th>2024-08-15</th>\n",
       "      <td>MBL</td>\n",
       "      <td>262.1</td>\n",
       "      <td>282.7</td>\n",
       "      <td>258.1</td>\n",
       "      <td>278.0</td>\n",
       "      <td>8.17 %</td>\n",
       "      <td>754,130.00</td>\n",
       "    </tr>\n",
       "    <tr>\n",
       "      <th>2024-08-14</th>\n",
       "      <td>MBL</td>\n",
       "      <td>258.0</td>\n",
       "      <td>258.5</td>\n",
       "      <td>248.4</td>\n",
       "      <td>257.0</td>\n",
       "      <td>1.58 %</td>\n",
       "      <td>167,329.00</td>\n",
       "    </tr>\n",
       "  </tbody>\n",
       "</table>\n",
       "</div>"
      ],
      "text/plain": [
       "           Symbol   Open   High    Low  Close Percent Change      Volume\n",
       "Date                                                                    \n",
       "2024-08-22    MBL  280.0  289.0  277.1  286.2         2.25 %  284,184.00\n",
       "2024-08-21    MBL  281.0  286.0  272.0  279.9        -0.39 %  345,405.00\n",
       "2024-08-18    MBL  280.0  295.0  273.0  281.0         1.08 %  666,974.00\n",
       "2024-08-15    MBL  262.1  282.7  258.1  278.0         8.17 %  754,130.00\n",
       "2024-08-14    MBL  258.0  258.5  248.4  257.0         1.58 %  167,329.00"
      ]
     },
     "execution_count": 25,
     "metadata": {},
     "output_type": "execute_result"
    }
   ],
   "source": [
    "df_mbl=pd.read_csv(\"assets/mbl_data.csv\",index_col=1,parse_dates=['Date'])\n",
    "df_mbl.head()"
   ]
  },
  {
   "cell_type": "markdown",
   "metadata": {},
   "source": [
    "The Date column is parsed as a datetime object and set as index."
   ]
  },
  {
   "cell_type": "markdown",
   "metadata": {},
   "source": [
    "<h3>2. Conversion of non-numeric column to numeric</h3>"
   ]
  },
  {
   "cell_type": "code",
   "execution_count": 26,
   "id": "01J66KFGT2C1AEZB7EV17TFXF2",
   "metadata": {},
   "outputs": [],
   "source": [
    "df_mbl['Volume'] = df_mbl['Volume'].str.replace(',', '', regex=False).astype(float)\n",
    "df_mbl[\"Percent Change\"] = df_mbl[\"Percent Change\"].str.replace(' %', '', regex=False)\n",
    "df_mbl[\"Percent Change\"] = pd.to_numeric(df_mbl[\"Percent Change\"], errors='coerce')"
   ]
  },
  {
   "cell_type": "markdown",
   "metadata": {},
   "source": [
    "The non-numeric columns Volume and Percent Change are converted to numeric values."
   ]
  },
  {
   "cell_type": "code",
   "execution_count": 27,
   "id": "01J66M94C0W5YN3NQ96HF1NCF6",
   "metadata": {},
   "outputs": [
    {
     "data": {
      "text/html": [
       "<div>\n",
       "<style scoped>\n",
       "    .dataframe tbody tr th:only-of-type {\n",
       "        vertical-align: middle;\n",
       "    }\n",
       "\n",
       "    .dataframe tbody tr th {\n",
       "        vertical-align: top;\n",
       "    }\n",
       "\n",
       "    .dataframe thead th {\n",
       "        text-align: right;\n",
       "    }\n",
       "</style>\n",
       "<table border=\"1\" class=\"dataframe\">\n",
       "  <thead>\n",
       "    <tr style=\"text-align: right;\">\n",
       "      <th></th>\n",
       "      <th>Symbol</th>\n",
       "      <th>Open</th>\n",
       "      <th>High</th>\n",
       "      <th>Low</th>\n",
       "      <th>Close</th>\n",
       "      <th>Percent Change</th>\n",
       "      <th>Volume</th>\n",
       "    </tr>\n",
       "    <tr>\n",
       "      <th>Date</th>\n",
       "      <th></th>\n",
       "      <th></th>\n",
       "      <th></th>\n",
       "      <th></th>\n",
       "      <th></th>\n",
       "      <th></th>\n",
       "      <th></th>\n",
       "    </tr>\n",
       "  </thead>\n",
       "  <tbody>\n",
       "    <tr>\n",
       "      <th>2024-08-22</th>\n",
       "      <td>MBL</td>\n",
       "      <td>280.0</td>\n",
       "      <td>289.0</td>\n",
       "      <td>277.1</td>\n",
       "      <td>286.2</td>\n",
       "      <td>2.25</td>\n",
       "      <td>284184.0</td>\n",
       "    </tr>\n",
       "    <tr>\n",
       "      <th>2024-08-21</th>\n",
       "      <td>MBL</td>\n",
       "      <td>281.0</td>\n",
       "      <td>286.0</td>\n",
       "      <td>272.0</td>\n",
       "      <td>279.9</td>\n",
       "      <td>-0.39</td>\n",
       "      <td>345405.0</td>\n",
       "    </tr>\n",
       "    <tr>\n",
       "      <th>2024-08-18</th>\n",
       "      <td>MBL</td>\n",
       "      <td>280.0</td>\n",
       "      <td>295.0</td>\n",
       "      <td>273.0</td>\n",
       "      <td>281.0</td>\n",
       "      <td>1.08</td>\n",
       "      <td>666974.0</td>\n",
       "    </tr>\n",
       "    <tr>\n",
       "      <th>2024-08-15</th>\n",
       "      <td>MBL</td>\n",
       "      <td>262.1</td>\n",
       "      <td>282.7</td>\n",
       "      <td>258.1</td>\n",
       "      <td>278.0</td>\n",
       "      <td>8.17</td>\n",
       "      <td>754130.0</td>\n",
       "    </tr>\n",
       "    <tr>\n",
       "      <th>2024-08-14</th>\n",
       "      <td>MBL</td>\n",
       "      <td>258.0</td>\n",
       "      <td>258.5</td>\n",
       "      <td>248.4</td>\n",
       "      <td>257.0</td>\n",
       "      <td>1.58</td>\n",
       "      <td>167329.0</td>\n",
       "    </tr>\n",
       "  </tbody>\n",
       "</table>\n",
       "</div>"
      ],
      "text/plain": [
       "           Symbol   Open   High    Low  Close  Percent Change    Volume\n",
       "Date                                                                   \n",
       "2024-08-22    MBL  280.0  289.0  277.1  286.2            2.25  284184.0\n",
       "2024-08-21    MBL  281.0  286.0  272.0  279.9           -0.39  345405.0\n",
       "2024-08-18    MBL  280.0  295.0  273.0  281.0            1.08  666974.0\n",
       "2024-08-15    MBL  262.1  282.7  258.1  278.0            8.17  754130.0\n",
       "2024-08-14    MBL  258.0  258.5  248.4  257.0            1.58  167329.0"
      ]
     },
     "execution_count": 27,
     "metadata": {},
     "output_type": "execute_result"
    }
   ],
   "source": [
    "df_mbl.head()"
   ]
  },
  {
   "cell_type": "code",
   "execution_count": 28,
   "id": "01J66M9YXN5K6JXXNPD348BQRJ",
   "metadata": {},
   "outputs": [
    {
     "name": "stdout",
     "output_type": "stream",
     "text": [
      "<class 'pandas.core.frame.DataFrame'>\n",
      "DatetimeIndex: 1127 entries, 2024-08-22 to 2019-08-25\n",
      "Data columns (total 7 columns):\n",
      " #   Column          Non-Null Count  Dtype  \n",
      "---  ------          --------------  -----  \n",
      " 0   Symbol          1127 non-null   object \n",
      " 1   Open            1127 non-null   float64\n",
      " 2   High            1127 non-null   float64\n",
      " 3   Low             1127 non-null   float64\n",
      " 4   Close           1127 non-null   float64\n",
      " 5   Percent Change  1126 non-null   float64\n",
      " 6   Volume          1127 non-null   float64\n",
      "dtypes: float64(6), object(1)\n",
      "memory usage: 70.4+ KB\n"
     ]
    }
   ],
   "source": [
    "df_mbl.info()"
   ]
  },
  {
   "cell_type": "markdown",
   "metadata": {},
   "source": [
    "We can see Volume and Price Change have been converted into float64. But a null value has appeared during conversion. So, using interpolation method, we can fill the null value."
   ]
  },
  {
   "cell_type": "code",
   "execution_count": 29,
   "id": "01J66MCCHY52HGZVE3M79EH5WF",
   "metadata": {},
   "outputs": [],
   "source": [
    "df_mbl['Percent Change']=df_mbl['Percent Change'].interpolate(method='linear')"
   ]
  },
  {
   "cell_type": "code",
   "execution_count": 30,
   "id": "01J66V1HX5DTHKC9WF1C8Q7431",
   "metadata": {},
   "outputs": [
    {
     "name": "stdout",
     "output_type": "stream",
     "text": [
      "<class 'pandas.core.frame.DataFrame'>\n",
      "DatetimeIndex: 1127 entries, 2024-08-22 to 2019-08-25\n",
      "Data columns (total 7 columns):\n",
      " #   Column          Non-Null Count  Dtype  \n",
      "---  ------          --------------  -----  \n",
      " 0   Symbol          1127 non-null   object \n",
      " 1   Open            1127 non-null   float64\n",
      " 2   High            1127 non-null   float64\n",
      " 3   Low             1127 non-null   float64\n",
      " 4   Close           1127 non-null   float64\n",
      " 5   Percent Change  1127 non-null   float64\n",
      " 6   Volume          1127 non-null   float64\n",
      "dtypes: float64(6), object(1)\n",
      "memory usage: 70.4+ KB\n"
     ]
    }
   ],
   "source": [
    "df_mbl.info()"
   ]
  },
  {
   "cell_type": "markdown",
   "metadata": {},
   "source": [
    "No null values remaining."
   ]
  },
  {
   "cell_type": "markdown",
   "metadata": {},
   "source": [
    "<h3>3. Inversion of dataset order</h3>"
   ]
  },
  {
   "cell_type": "markdown",
   "metadata": {},
   "source": [
    "The order of the dataset is converted from <i>Future to Past</i> to <i>Past to Future </i> for convenience."
   ]
  },
  {
   "cell_type": "code",
   "execution_count": 31,
   "id": "01J66W42RCKYB6EF2MZVES1KAQ",
   "metadata": {},
   "outputs": [],
   "source": [
    "df_mbl=df_mbl.sort_index(ascending=True)"
   ]
  },
  {
   "cell_type": "markdown",
   "metadata": {},
   "source": [
    "<h3>4. Creating indicators</h3>"
   ]
  },
  {
   "cell_type": "markdown",
   "metadata": {},
   "source": [
    "<p>Many investors and traders in the stock market use technical indicators as cues for future market trends. Three popular technical indicators are selected here.</p>\n",
    "<p>The three indicators are:</p>\n",
    "<ul>\n",
    "<li>Simple moving average(SMA)</li>\n",
    "<li>Weighted moving average(WMA)</li>\n",
    "<li>Relative Strength index(RSI)</li>\n",
    "</ul>\n",
    "<p>The three indicators are calculated using the closing prices of the stock.</p>"
   ]
  },
  {
   "cell_type": "code",
   "execution_count": 32,
   "id": "01J66V3ZJFZA7XMHV7DCE3KSTJ",
   "metadata": {},
   "outputs": [],
   "source": [
    "import pandas_ta as ta"
   ]
  },
  {
   "cell_type": "markdown",
   "metadata": {},
   "source": [
    "<h4>Moving average</h4>\n",
    "<p>Simple moving average (SMA) is the unweighted mean value of the specified time period. Weighted moving average (WMA) assigns more weight to the latest data points, since they contain more relevant information than data points in the distant past. Here, the time period of the moving average is taken as 10 days.</p>"
   ]
  },
  {
   "cell_type": "code",
   "execution_count": 33,
   "id": "01J66W323XE9E1MPTC3GTSQZ3T",
   "metadata": {},
   "outputs": [
    {
     "data": {
      "text/plain": [
       "Date\n",
       "2019-08-25      NaN\n",
       "2019-08-26      NaN\n",
       "2019-08-27      NaN\n",
       "2019-08-28      NaN\n",
       "2019-08-29      NaN\n",
       "2019-09-01      NaN\n",
       "2019-09-02      NaN\n",
       "2019-09-03      NaN\n",
       "2019-09-04      NaN\n",
       "2019-09-05    253.4\n",
       "2019-09-08    253.2\n",
       "2019-09-09    252.8\n",
       "2019-09-10    252.4\n",
       "2019-09-11    252.2\n",
       "2019-09-12    252.1\n",
       "Name: SMA_10, dtype: float64"
      ]
     },
     "execution_count": 33,
     "metadata": {},
     "output_type": "execute_result"
    }
   ],
   "source": [
    "sma10=ta.sma(df_mbl[\"Close\"], 10)\n",
    "sma10.head(15)"
   ]
  },
  {
   "cell_type": "markdown",
   "metadata": {},
   "source": [
    "The first 9 rows of the dataset cant have a SMA so they are null."
   ]
  },
  {
   "cell_type": "code",
   "execution_count": 34,
   "id": "01J66W6EQPZ55AGG63XCYCGFHA",
   "metadata": {},
   "outputs": [
    {
     "data": {
      "text/plain": [
       "Date\n",
       "2019-08-25           NaN\n",
       "2019-08-26           NaN\n",
       "2019-08-27           NaN\n",
       "2019-08-28           NaN\n",
       "2019-08-29           NaN\n",
       "2019-09-01           NaN\n",
       "2019-09-02           NaN\n",
       "2019-09-03           NaN\n",
       "2019-09-04           NaN\n",
       "2019-09-05    253.418182\n",
       "2019-09-08    253.345455\n",
       "2019-09-09    252.763636\n",
       "2019-09-10    252.436364\n",
       "2019-09-11    252.181818\n",
       "2019-09-12    252.509091\n",
       "Name: WMA_10, dtype: float64"
      ]
     },
     "execution_count": 34,
     "metadata": {},
     "output_type": "execute_result"
    }
   ],
   "source": [
    "wma10=ta.wma(df_mbl[\"Close\"],10)\n",
    "wma10.head(15)"
   ]
  },
  {
   "cell_type": "markdown",
   "metadata": {},
   "source": [
    "The first 9 rows of the dataset cant have a WMA so they are null."
   ]
  },
  {
   "cell_type": "markdown",
   "metadata": {},
   "source": [
    "<h4>Relative Strength Index (RSI)</h4>\n",
    "<p>RSI is a momentum indicator that investigates the current and historical gain and losses of the\n",
    "recent trading period, measured on a scale from 0 to 100.</p>"
   ]
  },
  {
   "cell_type": "code",
   "execution_count": 35,
   "id": "01J66WJB5H1GZ8B510GPS6V8HN",
   "metadata": {},
   "outputs": [
    {
     "data": {
      "text/plain": [
       "Date\n",
       "2019-08-25          NaN\n",
       "2019-08-26          NaN\n",
       "2019-08-27          NaN\n",
       "2019-08-28          NaN\n",
       "2019-08-29          NaN\n",
       "2019-09-01          NaN\n",
       "2019-09-02          NaN\n",
       "2019-09-03          NaN\n",
       "2019-09-04          NaN\n",
       "2019-09-05          NaN\n",
       "2019-09-08          NaN\n",
       "2019-09-09          NaN\n",
       "2019-09-10          NaN\n",
       "2019-09-11          NaN\n",
       "2019-09-12    51.122955\n",
       "Name: RSI_14, dtype: float64"
      ]
     },
     "execution_count": 35,
     "metadata": {},
     "output_type": "execute_result"
    }
   ],
   "source": [
    "rsi14=ta.rsi(df_mbl['Close'],14)\n",
    "rsi14.head(15)"
   ]
  },
  {
   "cell_type": "markdown",
   "metadata": {},
   "source": [
    "The length of RSI is taken as 14 since it is the most typically used timeframe."
   ]
  },
  {
   "cell_type": "code",
   "execution_count": 36,
   "id": "01J66WTFW8D1ZMG5SX2RNKWDC2",
   "metadata": {},
   "outputs": [],
   "source": [
    "df_mbl['SMA10']=sma10\n",
    "df_mbl['WMA10']=wma10\n",
    "df_mbl['RSI14']=rsi14"
   ]
  },
  {
   "cell_type": "markdown",
   "metadata": {},
   "source": [
    "Adding indicators to the dataset."
   ]
  },
  {
   "cell_type": "code",
   "execution_count": 37,
   "id": "01J66WYBM7X63GPNPQDQNQV2CN",
   "metadata": {},
   "outputs": [
    {
     "data": {
      "text/html": [
       "<div>\n",
       "<style scoped>\n",
       "    .dataframe tbody tr th:only-of-type {\n",
       "        vertical-align: middle;\n",
       "    }\n",
       "\n",
       "    .dataframe tbody tr th {\n",
       "        vertical-align: top;\n",
       "    }\n",
       "\n",
       "    .dataframe thead th {\n",
       "        text-align: right;\n",
       "    }\n",
       "</style>\n",
       "<table border=\"1\" class=\"dataframe\">\n",
       "  <thead>\n",
       "    <tr style=\"text-align: right;\">\n",
       "      <th></th>\n",
       "      <th>Symbol</th>\n",
       "      <th>Open</th>\n",
       "      <th>High</th>\n",
       "      <th>Low</th>\n",
       "      <th>Close</th>\n",
       "      <th>Percent Change</th>\n",
       "      <th>Volume</th>\n",
       "      <th>SMA10</th>\n",
       "      <th>WMA10</th>\n",
       "      <th>RSI14</th>\n",
       "    </tr>\n",
       "    <tr>\n",
       "      <th>Date</th>\n",
       "      <th></th>\n",
       "      <th></th>\n",
       "      <th></th>\n",
       "      <th></th>\n",
       "      <th></th>\n",
       "      <th></th>\n",
       "      <th></th>\n",
       "      <th></th>\n",
       "      <th></th>\n",
       "      <th></th>\n",
       "    </tr>\n",
       "  </thead>\n",
       "  <tbody>\n",
       "    <tr>\n",
       "      <th>2019-08-25</th>\n",
       "      <td>MBL</td>\n",
       "      <td>257.0</td>\n",
       "      <td>257.0</td>\n",
       "      <td>252.0</td>\n",
       "      <td>255.0</td>\n",
       "      <td>-0.78</td>\n",
       "      <td>13021.0</td>\n",
       "      <td>NaN</td>\n",
       "      <td>NaN</td>\n",
       "      <td>NaN</td>\n",
       "    </tr>\n",
       "    <tr>\n",
       "      <th>2019-08-26</th>\n",
       "      <td>MBL</td>\n",
       "      <td>257.0</td>\n",
       "      <td>257.0</td>\n",
       "      <td>251.0</td>\n",
       "      <td>254.0</td>\n",
       "      <td>-0.39</td>\n",
       "      <td>30391.0</td>\n",
       "      <td>NaN</td>\n",
       "      <td>NaN</td>\n",
       "      <td>NaN</td>\n",
       "    </tr>\n",
       "    <tr>\n",
       "      <th>2019-08-27</th>\n",
       "      <td>MBL</td>\n",
       "      <td>259.0</td>\n",
       "      <td>259.0</td>\n",
       "      <td>254.0</td>\n",
       "      <td>255.0</td>\n",
       "      <td>0.39</td>\n",
       "      <td>21428.0</td>\n",
       "      <td>NaN</td>\n",
       "      <td>NaN</td>\n",
       "      <td>NaN</td>\n",
       "    </tr>\n",
       "    <tr>\n",
       "      <th>2019-08-28</th>\n",
       "      <td>MBL</td>\n",
       "      <td>256.0</td>\n",
       "      <td>256.0</td>\n",
       "      <td>252.0</td>\n",
       "      <td>253.0</td>\n",
       "      <td>-0.78</td>\n",
       "      <td>12203.0</td>\n",
       "      <td>NaN</td>\n",
       "      <td>NaN</td>\n",
       "      <td>NaN</td>\n",
       "    </tr>\n",
       "    <tr>\n",
       "      <th>2019-08-29</th>\n",
       "      <td>MBL</td>\n",
       "      <td>253.0</td>\n",
       "      <td>255.0</td>\n",
       "      <td>247.0</td>\n",
       "      <td>255.0</td>\n",
       "      <td>0.79</td>\n",
       "      <td>40974.0</td>\n",
       "      <td>NaN</td>\n",
       "      <td>NaN</td>\n",
       "      <td>NaN</td>\n",
       "    </tr>\n",
       "  </tbody>\n",
       "</table>\n",
       "</div>"
      ],
      "text/plain": [
       "           Symbol   Open   High    Low  Close  Percent Change   Volume  SMA10  \\\n",
       "Date                                                                            \n",
       "2019-08-25    MBL  257.0  257.0  252.0  255.0           -0.78  13021.0    NaN   \n",
       "2019-08-26    MBL  257.0  257.0  251.0  254.0           -0.39  30391.0    NaN   \n",
       "2019-08-27    MBL  259.0  259.0  254.0  255.0            0.39  21428.0    NaN   \n",
       "2019-08-28    MBL  256.0  256.0  252.0  253.0           -0.78  12203.0    NaN   \n",
       "2019-08-29    MBL  253.0  255.0  247.0  255.0            0.79  40974.0    NaN   \n",
       "\n",
       "            WMA10  RSI14  \n",
       "Date                      \n",
       "2019-08-25    NaN    NaN  \n",
       "2019-08-26    NaN    NaN  \n",
       "2019-08-27    NaN    NaN  \n",
       "2019-08-28    NaN    NaN  \n",
       "2019-08-29    NaN    NaN  "
      ]
     },
     "execution_count": 37,
     "metadata": {},
     "output_type": "execute_result"
    }
   ],
   "source": [
    "df_mbl.head()"
   ]
  },
  {
   "cell_type": "markdown",
   "metadata": {},
   "source": [
    "There are null values which requires handling."
   ]
  },
  {
   "cell_type": "markdown",
   "metadata": {},
   "source": [
    "<h3>5. Cleaning dataset</h3>"
   ]
  },
  {
   "cell_type": "code",
   "execution_count": 38,
   "id": "01J66WYSQD07X3PX0X9BXZTMT6",
   "metadata": {},
   "outputs": [
    {
     "name": "stdout",
     "output_type": "stream",
     "text": [
      "<class 'pandas.core.frame.DataFrame'>\n",
      "DatetimeIndex: 1113 entries, 2019-09-12 to 2024-08-22\n",
      "Data columns (total 10 columns):\n",
      " #   Column          Non-Null Count  Dtype  \n",
      "---  ------          --------------  -----  \n",
      " 0   Symbol          1113 non-null   object \n",
      " 1   Open            1113 non-null   float64\n",
      " 2   High            1113 non-null   float64\n",
      " 3   Low             1113 non-null   float64\n",
      " 4   Close           1113 non-null   float64\n",
      " 5   Percent Change  1113 non-null   float64\n",
      " 6   Volume          1113 non-null   float64\n",
      " 7   SMA10           1113 non-null   float64\n",
      " 8   WMA10           1113 non-null   float64\n",
      " 9   RSI14           1113 non-null   float64\n",
      "dtypes: float64(9), object(1)\n",
      "memory usage: 95.6+ KB\n"
     ]
    }
   ],
   "source": [
    "df_clean = df_mbl.dropna()\n",
    "df_clean.info()"
   ]
  },
  {
   "cell_type": "markdown",
   "metadata": {},
   "source": [
    "The rows with null values are dropped. Thus, first 13 rows are removed from the dataset."
   ]
  },
  {
   "cell_type": "code",
   "execution_count": 39,
   "id": "01J66X18YCK7XK36WV1VSASE7M",
   "metadata": {},
   "outputs": [
    {
     "data": {
      "text/html": [
       "<div>\n",
       "<style scoped>\n",
       "    .dataframe tbody tr th:only-of-type {\n",
       "        vertical-align: middle;\n",
       "    }\n",
       "\n",
       "    .dataframe tbody tr th {\n",
       "        vertical-align: top;\n",
       "    }\n",
       "\n",
       "    .dataframe thead th {\n",
       "        text-align: right;\n",
       "    }\n",
       "</style>\n",
       "<table border=\"1\" class=\"dataframe\">\n",
       "  <thead>\n",
       "    <tr style=\"text-align: right;\">\n",
       "      <th></th>\n",
       "      <th>Open</th>\n",
       "      <th>High</th>\n",
       "      <th>Low</th>\n",
       "      <th>Close</th>\n",
       "      <th>Percent Change</th>\n",
       "      <th>Volume</th>\n",
       "      <th>SMA10</th>\n",
       "      <th>WMA10</th>\n",
       "      <th>RSI14</th>\n",
       "    </tr>\n",
       "    <tr>\n",
       "      <th>Date</th>\n",
       "      <th></th>\n",
       "      <th></th>\n",
       "      <th></th>\n",
       "      <th></th>\n",
       "      <th></th>\n",
       "      <th></th>\n",
       "      <th></th>\n",
       "      <th></th>\n",
       "      <th></th>\n",
       "    </tr>\n",
       "  </thead>\n",
       "  <tbody>\n",
       "    <tr>\n",
       "      <th>2019-09-12</th>\n",
       "      <td>252.0</td>\n",
       "      <td>255.0</td>\n",
       "      <td>251.0</td>\n",
       "      <td>254.0</td>\n",
       "      <td>1.20</td>\n",
       "      <td>16686.0</td>\n",
       "      <td>252.1</td>\n",
       "      <td>252.509091</td>\n",
       "      <td>51.122955</td>\n",
       "    </tr>\n",
       "    <tr>\n",
       "      <th>2019-09-15</th>\n",
       "      <td>255.0</td>\n",
       "      <td>255.0</td>\n",
       "      <td>246.0</td>\n",
       "      <td>248.0</td>\n",
       "      <td>-2.36</td>\n",
       "      <td>18710.0</td>\n",
       "      <td>252.0</td>\n",
       "      <td>251.763636</td>\n",
       "      <td>40.857728</td>\n",
       "    </tr>\n",
       "    <tr>\n",
       "      <th>2019-09-16</th>\n",
       "      <td>245.0</td>\n",
       "      <td>248.0</td>\n",
       "      <td>242.0</td>\n",
       "      <td>245.0</td>\n",
       "      <td>-1.21</td>\n",
       "      <td>18061.0</td>\n",
       "      <td>252.0</td>\n",
       "      <td>250.490909</td>\n",
       "      <td>36.871202</td>\n",
       "    </tr>\n",
       "    <tr>\n",
       "      <th>2019-09-17</th>\n",
       "      <td>249.0</td>\n",
       "      <td>252.0</td>\n",
       "      <td>249.0</td>\n",
       "      <td>251.0</td>\n",
       "      <td>2.45</td>\n",
       "      <td>10694.0</td>\n",
       "      <td>251.7</td>\n",
       "      <td>250.309091</td>\n",
       "      <td>47.834025</td>\n",
       "    </tr>\n",
       "    <tr>\n",
       "      <th>2019-09-18</th>\n",
       "      <td>253.0</td>\n",
       "      <td>255.0</td>\n",
       "      <td>250.0</td>\n",
       "      <td>252.0</td>\n",
       "      <td>0.40</td>\n",
       "      <td>7967.0</td>\n",
       "      <td>251.1</td>\n",
       "      <td>250.363636</td>\n",
       "      <td>49.410857</td>\n",
       "    </tr>\n",
       "  </tbody>\n",
       "</table>\n",
       "</div>"
      ],
      "text/plain": [
       "             Open   High    Low  Close  Percent Change   Volume  SMA10  \\\n",
       "Date                                                                     \n",
       "2019-09-12  252.0  255.0  251.0  254.0            1.20  16686.0  252.1   \n",
       "2019-09-15  255.0  255.0  246.0  248.0           -2.36  18710.0  252.0   \n",
       "2019-09-16  245.0  248.0  242.0  245.0           -1.21  18061.0  252.0   \n",
       "2019-09-17  249.0  252.0  249.0  251.0            2.45  10694.0  251.7   \n",
       "2019-09-18  253.0  255.0  250.0  252.0            0.40   7967.0  251.1   \n",
       "\n",
       "                 WMA10      RSI14  \n",
       "Date                               \n",
       "2019-09-12  252.509091  51.122955  \n",
       "2019-09-15  251.763636  40.857728  \n",
       "2019-09-16  250.490909  36.871202  \n",
       "2019-09-17  250.309091  47.834025  \n",
       "2019-09-18  250.363636  49.410857  "
      ]
     },
     "execution_count": 39,
     "metadata": {},
     "output_type": "execute_result"
    }
   ],
   "source": [
    "df_clean=df_clean.iloc[:,1:]\n",
    "df_clean.head()"
   ]
  },
  {
   "cell_type": "markdown",
   "metadata": {},
   "source": [
    "We have obtained a clean dataset containing the indicators."
   ]
  },
  {
   "cell_type": "code",
   "execution_count": 40,
   "id": "01J6CV7BVCBEDTWB9EA457MFNN",
   "metadata": {},
   "outputs": [],
   "source": [
    "df_clean.to_csv(\"assets/clean_data.csv\",index=False)"
   ]
  },
  {
   "cell_type": "markdown",
   "metadata": {},
   "source": [
    "<h3>6. Data scaling</h3>"
   ]
  },
  {
   "cell_type": "code",
   "execution_count": 41,
   "id": "01J66X31VWDEHMEZCHY07VJQ98",
   "metadata": {},
   "outputs": [
    {
     "data": {
      "text/html": [
       "<div>\n",
       "<style scoped>\n",
       "    .dataframe tbody tr th:only-of-type {\n",
       "        vertical-align: middle;\n",
       "    }\n",
       "\n",
       "    .dataframe tbody tr th {\n",
       "        vertical-align: top;\n",
       "    }\n",
       "\n",
       "    .dataframe thead th {\n",
       "        text-align: right;\n",
       "    }\n",
       "</style>\n",
       "<table border=\"1\" class=\"dataframe\">\n",
       "  <thead>\n",
       "    <tr style=\"text-align: right;\">\n",
       "      <th></th>\n",
       "      <th>Open</th>\n",
       "      <th>High</th>\n",
       "      <th>Low</th>\n",
       "      <th>Close</th>\n",
       "      <th>Percent Change</th>\n",
       "      <th>Volume</th>\n",
       "      <th>SMA10</th>\n",
       "      <th>WMA10</th>\n",
       "      <th>RSI14</th>\n",
       "    </tr>\n",
       "  </thead>\n",
       "  <tbody>\n",
       "    <tr>\n",
       "      <th>count</th>\n",
       "      <td>1.113000e+03</td>\n",
       "      <td>1.113000e+03</td>\n",
       "      <td>1.113000e+03</td>\n",
       "      <td>1.113000e+03</td>\n",
       "      <td>1.113000e+03</td>\n",
       "      <td>1.113000e+03</td>\n",
       "      <td>1113.000000</td>\n",
       "      <td>1.113000e+03</td>\n",
       "      <td>1113.000000</td>\n",
       "    </tr>\n",
       "    <tr>\n",
       "      <th>mean</th>\n",
       "      <td>2.553613e-16</td>\n",
       "      <td>-1.532168e-16</td>\n",
       "      <td>1.021445e-16</td>\n",
       "      <td>-4.085780e-16</td>\n",
       "      <td>5.586028e-18</td>\n",
       "      <td>-2.553613e-17</td>\n",
       "      <td>0.000000</td>\n",
       "      <td>7.150116e-16</td>\n",
       "      <td>0.000000</td>\n",
       "    </tr>\n",
       "    <tr>\n",
       "      <th>std</th>\n",
       "      <td>1.000450e+00</td>\n",
       "      <td>1.000450e+00</td>\n",
       "      <td>1.000450e+00</td>\n",
       "      <td>1.000450e+00</td>\n",
       "      <td>1.000450e+00</td>\n",
       "      <td>1.000450e+00</td>\n",
       "      <td>1.000450</td>\n",
       "      <td>1.000450e+00</td>\n",
       "      <td>1.000450</td>\n",
       "    </tr>\n",
       "    <tr>\n",
       "      <th>min</th>\n",
       "      <td>-1.641119e+00</td>\n",
       "      <td>-1.605938e+00</td>\n",
       "      <td>-1.612313e+00</td>\n",
       "      <td>-1.615589e+00</td>\n",
       "      <td>-4.861564e+00</td>\n",
       "      <td>-8.249563e-01</td>\n",
       "      <td>-1.547393</td>\n",
       "      <td>-1.569328e+00</td>\n",
       "      <td>-2.174425</td>\n",
       "    </tr>\n",
       "    <tr>\n",
       "      <th>25%</th>\n",
       "      <td>-6.058594e-01</td>\n",
       "      <td>-5.884778e-01</td>\n",
       "      <td>-5.788565e-01</td>\n",
       "      <td>-5.815372e-01</td>\n",
       "      <td>-5.246544e-01</td>\n",
       "      <td>-5.725008e-01</td>\n",
       "      <td>-0.583096</td>\n",
       "      <td>-5.805488e-01</td>\n",
       "      <td>-0.712778</td>\n",
       "    </tr>\n",
       "    <tr>\n",
       "      <th>50%</th>\n",
       "      <td>-3.336862e-01</td>\n",
       "      <td>-3.263302e-01</td>\n",
       "      <td>-3.282176e-01</td>\n",
       "      <td>-3.440757e-01</td>\n",
       "      <td>-2.383193e-02</td>\n",
       "      <td>-3.474775e-01</td>\n",
       "      <td>-0.328485</td>\n",
       "      <td>-3.304260e-01</td>\n",
       "      <td>-0.017057</td>\n",
       "    </tr>\n",
       "    <tr>\n",
       "      <th>75%</th>\n",
       "      <td>5.162287e-01</td>\n",
       "      <td>5.092653e-01</td>\n",
       "      <td>5.370016e-01</td>\n",
       "      <td>5.316686e-01</td>\n",
       "      <td>4.290394e-01</td>\n",
       "      <td>1.754262e-01</td>\n",
       "      <td>0.574536</td>\n",
       "      <td>5.905132e-01</td>\n",
       "      <td>0.632641</td>\n",
       "    </tr>\n",
       "    <tr>\n",
       "      <th>max</th>\n",
       "      <td>3.234620e+00</td>\n",
       "      <td>3.196278e+00</td>\n",
       "      <td>3.043390e+00</td>\n",
       "      <td>3.157218e+00</td>\n",
       "      <td>5.293411e+00</td>\n",
       "      <td>8.449557e+00</td>\n",
       "      <td>2.983327</td>\n",
       "      <td>3.001802e+00</td>\n",
       "      <td>2.772318</td>\n",
       "    </tr>\n",
       "  </tbody>\n",
       "</table>\n",
       "</div>"
      ],
      "text/plain": [
       "               Open          High           Low         Close  Percent Change  \\\n",
       "count  1.113000e+03  1.113000e+03  1.113000e+03  1.113000e+03    1.113000e+03   \n",
       "mean   2.553613e-16 -1.532168e-16  1.021445e-16 -4.085780e-16    5.586028e-18   \n",
       "std    1.000450e+00  1.000450e+00  1.000450e+00  1.000450e+00    1.000450e+00   \n",
       "min   -1.641119e+00 -1.605938e+00 -1.612313e+00 -1.615589e+00   -4.861564e+00   \n",
       "25%   -6.058594e-01 -5.884778e-01 -5.788565e-01 -5.815372e-01   -5.246544e-01   \n",
       "50%   -3.336862e-01 -3.263302e-01 -3.282176e-01 -3.440757e-01   -2.383193e-02   \n",
       "75%    5.162287e-01  5.092653e-01  5.370016e-01  5.316686e-01    4.290394e-01   \n",
       "max    3.234620e+00  3.196278e+00  3.043390e+00  3.157218e+00    5.293411e+00   \n",
       "\n",
       "             Volume        SMA10         WMA10        RSI14  \n",
       "count  1.113000e+03  1113.000000  1.113000e+03  1113.000000  \n",
       "mean  -2.553613e-17     0.000000  7.150116e-16     0.000000  \n",
       "std    1.000450e+00     1.000450  1.000450e+00     1.000450  \n",
       "min   -8.249563e-01    -1.547393 -1.569328e+00    -2.174425  \n",
       "25%   -5.725008e-01    -0.583096 -5.805488e-01    -0.712778  \n",
       "50%   -3.474775e-01    -0.328485 -3.304260e-01    -0.017057  \n",
       "75%    1.754262e-01     0.574536  5.905132e-01     0.632641  \n",
       "max    8.449557e+00     2.983327  3.001802e+00     2.772318  "
      ]
     },
     "execution_count": 41,
     "metadata": {},
     "output_type": "execute_result"
    }
   ],
   "source": [
    "from sklearn.preprocessing import StandardScaler\n",
    "import pickle\n",
    "scaler=StandardScaler()\n",
    "scaler.fit(df_clean)\n",
    "df_normalized=scaler.transform(df_clean)\n",
    "df_normalized=pd.DataFrame(df_normalized,columns=df_clean.columns)\n",
    "df_normalized.describe()"
   ]
  },
  {
   "cell_type": "markdown",
   "metadata": {},
   "source": [
    "Through the min max scaling process, each feature component is normalized to the range [0,1], since the range of values of raw data varies widely, and it helps gradient descent to converge much faster."
   ]
  },
  {
   "cell_type": "code",
   "execution_count": 42,
   "id": "01J66XFBAKF0MC83CZ8KD006N4",
   "metadata": {},
   "outputs": [
    {
     "data": {
      "text/plain": [
       "['assets/scaler.gz']"
      ]
     },
     "execution_count": 42,
     "metadata": {},
     "output_type": "execute_result"
    }
   ],
   "source": [
    "import joblib\n",
    "joblib.dump(scaler, \"assets/scaler.gz\") "
   ]
  },
  {
   "cell_type": "markdown",
   "metadata": {},
   "source": [
    "The scaler is stored for future usage."
   ]
  },
  {
   "cell_type": "code",
   "execution_count": 43,
   "id": "01J6CTW4PC7864G3NK610S423P",
   "metadata": {},
   "outputs": [],
   "source": [
    "df_normalized.to_csv(\"assets/clean_normalized_data.csv\",index=False)"
   ]
  },
  {
   "cell_type": "markdown",
   "metadata": {},
   "source": [
    "<h3>7. Rolling window</h3>"
   ]
  },
  {
   "cell_type": "code",
   "execution_count": 44,
   "id": "01J66ZB72JQ1FJVMQVS5WKVF5D",
   "metadata": {},
   "outputs": [
    {
     "name": "stdout",
     "output_type": "stream",
     "text": [
      "Shape of dataset: 994 X 120 X 9\n"
     ]
    }
   ],
   "source": [
    "from helper.rolling_window import rolling_window\n",
    "\n",
    "rolling_dataset = rolling_window(df_normalized,120)\n",
    "print(\"Shape of dataset: {number_of_windows} X {window_size} X {num_features}\".format(number_of_windows=len(rolling_dataset),window_size=rolling_dataset[0].shape[0],num_features=rolling_dataset[0].shape[1]))"
   ]
  },
  {
   "cell_type": "markdown",
   "metadata": {},
   "source": [
    "Through a rolling window technique, we can create a dataset of historical data points that can be used to train a machine learning model for predictions.</br> The shape of the dataset is 1103 X 11 X 9, where 1103 is the number of windows, 11 is the length of a window, and 9 is the number of features."
   ]
  },
  {
   "cell_type": "markdown",
   "metadata": {},
   "source": [
    "<h3>8. Save dataset</h3>"
   ]
  },
  {
   "cell_type": "code",
   "execution_count": 45,
   "id": "01J66ZRZ22WBHN7QJHT4S6KQ27",
   "metadata": {},
   "outputs": [],
   "source": [
    "pd.concat(rolling_dataset).to_csv(\"assets/rolling_window_data.csv\",index=False)"
   ]
  },
  {
   "cell_type": "markdown",
   "metadata": {},
   "source": [
    "The dataset is saved for training and testing the model."
   ]
  }
 ],
 "metadata": {
  "kernelspec": {
   "display_name": "venv",
   "language": "python",
   "name": "python3"
  },
  "language_info": {
   "codemirror_mode": {
    "name": "ipython",
    "version": 3
   },
   "file_extension": ".py",
   "mimetype": "text/x-python",
   "name": "python",
   "nbconvert_exporter": "python",
   "pygments_lexer": "ipython3",
   "version": "3.12.3"
  }
 },
 "nbformat": 4,
 "nbformat_minor": 2
}
